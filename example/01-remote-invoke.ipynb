{
 "cells": [
  {
   "cell_type": "code",
   "execution_count": null,
   "metadata": {},
   "outputs": [],
   "source": [
    "from langserve import RemoteRunnable\n",
    "\n",
    "chain = RemoteRunnable(\n",
    "    \"https://langserve-template-ee9acafba005.herokuapp.com/prompt/c/N4XyA\"\n",
    ")\n",
    "\n",
    "for token in chain.stream(\n",
    "    {\"task\": \"SNS 게시글 작성을 요청하는 프롬프트를 생성하고 싶어. 한글로 작성해줘.\"}\n",
    "):\n",
    "    print(token, end=\"\")"
   ]
  }
 ],
 "metadata": {
  "kernelspec": {
   "display_name": "py-test",
   "language": "python",
   "name": "python3"
  },
  "language_info": {
   "codemirror_mode": {
    "name": "ipython",
    "version": 3
   },
   "file_extension": ".py",
   "mimetype": "text/x-python",
   "name": "python",
   "nbconvert_exporter": "python",
   "pygments_lexer": "ipython3",
   "version": "3.10.13"
  }
 },
 "nbformat": 4,
 "nbformat_minor": 2
}
